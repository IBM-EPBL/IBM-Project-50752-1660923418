{
 "cells": [
  {
   "cell_type": "markdown",
   "id": "79777b82",
   "metadata": {},
   "source": [
    "###### IMPORT THE LIBRARY"
   ]
  },
  {
   "cell_type": "code",
   "execution_count": 1,
   "id": "189e5c26",
   "metadata": {},
   "outputs": [],
   "source": [
    "from keras.preprocessing.image import ImageDataGenerator"
   ]
  },
  {
   "cell_type": "markdown",
   "id": "8fbaaff1",
   "metadata": {},
   "source": [
    "###### DEFINE THE PARAMETERS/ARGUMENTS FOR IMAGEDATAGENERATOR CLASS"
   ]
  },
  {
   "cell_type": "code",
   "execution_count": 2,
   "id": "70edff27",
   "metadata": {},
   "outputs": [],
   "source": [
    "train_datagen=ImageDataGenerator(rescale=1.255,shear_range=0.2,horizontal_flip=True)\n",
    "test_datagen=ImageDataGenerator(rescale=1./255)"
   ]
  },
  {
   "cell_type": "markdown",
   "id": "5ac8e931",
   "metadata": {},
   "source": [
    "###### APPLYING IMAGEDATAGENERATOR FUNCTIONALITY TO TRAINSET AND TESTSET"
   ]
  },
  {
   "cell_type": "code",
   "execution_count": null,
   "id": "b4dca699",
   "metadata": {},
   "outputs": [],
   "source": [
    "x_train=train_datagen.flow_from_directory(r'C:\\ibm\\Dataset\\TRAIN_SET',target_size=(64,64),batch_size=32,class_mode='categorical')\n",
    "x_test=train_datagen.flow_from_directory(r'C:\\ibm\\Dataset\\TEST_SET',target_size=(64,64),batch_size=32,class_mode='categorical')"
   ]
  }
 ],
 "metadata": {
  "kernelspec": {
   "display_name": "Python 3 (ipykernel)",
   "language": "python",
   "name": "python3"
  },
  "language_info": {
   "codemirror_mode": {
    "name": "ipython",
    "version": 3
   },
   "file_extension": ".py",
   "mimetype": "text/x-python",
   "name": "python",
   "nbconvert_exporter": "python",
   "pygments_lexer": "ipython3",
   "version": "3.9.7"
  }
 },
 "nbformat": 4,
 "nbformat_minor": 5
}
