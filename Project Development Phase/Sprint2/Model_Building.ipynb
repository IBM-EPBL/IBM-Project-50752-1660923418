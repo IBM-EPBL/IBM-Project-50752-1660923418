{
  "nbformat": 4,
  "nbformat_minor": 0,
  "metadata": {
    "colab": {
      "provenance": []
    },
    "kernelspec": {
      "name": "python3",
      "display_name": "Python 3"
    },
    "language_info": {
      "name": "python"
    }
  },
  "cells": [
    {
      "cell_type": "markdown",
      "source": [
        "Team ID :PNT2022TMID47211\n",
        "\n",
        "Project Name : AI-powered Nutrition Analyzer for Fitness Enthusiasts"
      ],
      "metadata": {
        "id": "xnuMeMiXtzk3"
      }
    },
    {
      "cell_type": "code",
      "source": [
        "from google.colab import drive\n",
        "drive.mount('/content/drive')"
      ],
      "metadata": {
        "colab": {
          "base_uri": "https://localhost:8080/"
        },
        "id": "PAkGGpAWf4Qi",
        "outputId": "9c4b61e2-7619-49fe-de0d-ab5d15e433ad"
      },
      "execution_count": 3,
      "outputs": [
        {
          "output_type": "stream",
          "name": "stdout",
          "text": [
            "Drive already mounted at /content/drive; to attempt to forcibly remount, call drive.mount(\"/content/drive\", force_remount=True).\n"
          ]
        }
      ]
    },
    {
      "cell_type": "code",
      "source": [
        "cd/content/drive/MyDrive/Dataset"
      ],
      "metadata": {
        "colab": {
          "base_uri": "https://localhost:8080/"
        },
        "id": "4AwviXrJggWk",
        "outputId": "d78ebe69-7d4c-453d-c5d0-0024d77ac9b6"
      },
      "execution_count": 4,
      "outputs": [
        {
          "output_type": "stream",
          "name": "stdout",
          "text": [
            "/content/drive/MyDrive/Dataset\n"
          ]
        }
      ]
    },
    {
      "cell_type": "markdown",
      "source": [
        "**Image Preprocessing**"
      ],
      "metadata": {
        "id": "2q6vEWivu8r5"
      }
    },
    {
      "cell_type": "code",
      "source": [
        "from keras.preprocessing.image import ImageDataGenerator"
      ],
      "metadata": {
        "id": "_VrNoZLRgwwJ"
      },
      "execution_count": 5,
      "outputs": []
    },
    {
      "cell_type": "markdown",
      "source": [
        "**Image Data Augmentation**"
      ],
      "metadata": {
        "id": "srHRad0OvEMR"
      }
    },
    {
      "cell_type": "code",
      "source": [
        "train_datagen = ImageDataGenerator(rescale=1./255,shear_range=0.2,zoom_range=0.2,horizontal_flip=True)\n",
        "test_datagen=ImageDataGenerator(rescale=1./255)"
      ],
      "metadata": {
        "id": "aDIpuYdMhblr"
      },
      "execution_count": 6,
      "outputs": []
    },
    {
      "cell_type": "markdown",
      "source": [
        "**Applying Image DataGenerator Functionality To Trainset And Testset**"
      ],
      "metadata": {
        "id": "xyh9fuw9vVAr"
      }
    },
    {
      "cell_type": "code",
      "source": [
        "x_train = train_datagen.flow_from_directory(\n",
        "    r'/content/drive/MyDrive/Dataset/TRAIN_SET',\n",
        "    target_size=(64, 64),batch_size=5,color_mode='rgb',class_mode='sparse')\n",
        "x_test = test_datagen.flow_from_directory(\n",
        "    r'/content/drive/MyDrive/Dataset/TEST_SET',\n",
        "    target_size=(64, 64),batch_size=5,color_mode='rgb',class_mode='sparse')"
      ],
      "metadata": {
        "colab": {
          "base_uri": "https://localhost:8080/"
        },
        "id": "XFHzzoADhZb6",
        "outputId": "fcb90ec2-f6c4-4780-db95-af59824c24a8"
      },
      "execution_count": 7,
      "outputs": [
        {
          "output_type": "stream",
          "name": "stdout",
          "text": [
            "Found 2626 images belonging to 5 classes.\n",
            "Found 1071 images belonging to 5 classes.\n"
          ]
        }
      ]
    },
    {
      "cell_type": "code",
      "source": [
        "#checking the number of classes\n",
        "print(x_train.class_indices)"
      ],
      "metadata": {
        "colab": {
          "base_uri": "https://localhost:8080/"
        },
        "id": "X_p2nOTVikUK",
        "outputId": "0f5dd7e7-36c7-4c11-f2d5-b1fee21fd5d1"
      },
      "execution_count": 8,
      "outputs": [
        {
          "output_type": "stream",
          "name": "stdout",
          "text": [
            "{'APPLES': 0, 'BANANA': 1, 'ORANGE': 2, 'PINEAPPLE': 3, 'WATERMELON': 4}\n"
          ]
        }
      ]
    },
    {
      "cell_type": "code",
      "source": [
        "#checking the number of classes\n",
        "print(x_test.class_indices)"
      ],
      "metadata": {
        "colab": {
          "base_uri": "https://localhost:8080/"
        },
        "id": "yO7QPQChrTYs",
        "outputId": "26c46a8b-767f-4c43-f72d-c92ec2305df1"
      },
      "execution_count": 9,
      "outputs": [
        {
          "output_type": "stream",
          "name": "stdout",
          "text": [
            "{'APPLES': 0, 'BANANA': 1, 'ORANGE': 2, 'PINEAPPLE': 3, 'WATERMELON': 4}\n"
          ]
        }
      ]
    },
    {
      "cell_type": "code",
      "source": [
        "from collections import Counter as c\n",
        "c(x_train .labels)"
      ],
      "metadata": {
        "colab": {
          "base_uri": "https://localhost:8080/"
        },
        "id": "pcyiwAWYrZFO",
        "outputId": "e746d7d9-e037-41c5-f9e8-eb961403dd68"
      },
      "execution_count": 10,
      "outputs": [
        {
          "output_type": "execute_result",
          "data": {
            "text/plain": [
              "Counter({0: 606, 1: 445, 2: 479, 3: 621, 4: 475})"
            ]
          },
          "metadata": {},
          "execution_count": 10
        }
      ]
    },
    {
      "cell_type": "markdown",
      "source": [
        "**Model Building**"
      ],
      "metadata": {
        "id": "abVzWC4svbGO"
      }
    },
    {
      "cell_type": "markdown",
      "source": [
        "1.Importing The Model Building Libraries"
      ],
      "metadata": {
        "id": "KVgUdYpMvuIU"
      }
    },
    {
      "cell_type": "code",
      "source": [
        "import numpy as np\n",
        "import tensorflow as tf\n",
        "from tensorflow.keras.models import Sequential \n",
        "from tensorflow.keras import layers\n",
        "from tensorflow.keras.layers import Dense,Flatten\n",
        "from tensorflow.keras.layers import Conv2D,MaxPooling2D,Dropout"
      ],
      "metadata": {
        "id": "PHxvCLybrbH8"
      },
      "execution_count": 11,
      "outputs": []
    },
    {
      "cell_type": "markdown",
      "source": [
        "2.Initializing The Model\n"
      ],
      "metadata": {
        "id": "MAo2dmb1v9UV"
      }
    },
    {
      "cell_type": "code",
      "source": [
        "classifier = Sequential()"
      ],
      "metadata": {
        "id": "gW9lToJErf8N"
      },
      "execution_count": 12,
      "outputs": []
    },
    {
      "cell_type": "markdown",
      "source": [
        "3.Adding CNN Layers\n"
      ],
      "metadata": {
        "id": "c6CNp4f7v_M1"
      }
    },
    {
      "cell_type": "code",
      "source": [
        "classifier = Sequential()\n",
        "classifier.add(Conv2D(32, (3, 3), input_shape=(64, 64, 3), activation='relu'))\n",
        "classifier.add(MaxPooling2D(pool_size=(2, 2)))\n",
        "classifier.add(Conv2D(32, (3, 3), activation='relu'))\n",
        "classifier.add(MaxPooling2D(pool_size=(2, 2)))\n",
        "classifier.add(Flatten())"
      ],
      "metadata": {
        "id": "Bwb75t0jrjp-"
      },
      "execution_count": 13,
      "outputs": []
    },
    {
      "cell_type": "markdown",
      "source": [
        "4.Adding Dense Layers"
      ],
      "metadata": {
        "id": "lF2MRH77wC87"
      }
    },
    {
      "cell_type": "code",
      "source": [
        "classifier.add(Dense(units=128, activation='relu'))\n",
        "classifier.add(Dense(units=5, activation='softmax'))\n",
        "classifier.add(Dense(units=128, activation='relu'))\n",
        "classifier.add(Dense(units=5, activation='softmax'))"
      ],
      "metadata": {
        "id": "VjJP1RN9rouN"
      },
      "execution_count": 14,
      "outputs": []
    },
    {
      "cell_type": "code",
      "source": [
        "classifier.summary()"
      ],
      "metadata": {
        "colab": {
          "base_uri": "https://localhost:8080/"
        },
        "id": "jk8Hrgb9ru4M",
        "outputId": "9769b6fc-c33b-44f1-d545-333d98271a67"
      },
      "execution_count": 15,
      "outputs": [
        {
          "output_type": "stream",
          "name": "stdout",
          "text": [
            "Model: \"sequential_1\"\n",
            "_________________________________________________________________\n",
            " Layer (type)                Output Shape              Param #   \n",
            "=================================================================\n",
            " conv2d (Conv2D)             (None, 62, 62, 32)        896       \n",
            "                                                                 \n",
            " max_pooling2d (MaxPooling2D  (None, 31, 31, 32)       0         \n",
            " )                                                               \n",
            "                                                                 \n",
            " conv2d_1 (Conv2D)           (None, 29, 29, 32)        9248      \n",
            "                                                                 \n",
            " max_pooling2d_1 (MaxPooling  (None, 14, 14, 32)       0         \n",
            " 2D)                                                             \n",
            "                                                                 \n",
            " flatten (Flatten)           (None, 6272)              0         \n",
            "                                                                 \n",
            " dense (Dense)               (None, 128)               802944    \n",
            "                                                                 \n",
            " dense_1 (Dense)             (None, 5)                 645       \n",
            "                                                                 \n",
            " dense_2 (Dense)             (None, 128)               768       \n",
            "                                                                 \n",
            " dense_3 (Dense)             (None, 5)                 645       \n",
            "                                                                 \n",
            "=================================================================\n",
            "Total params: 815,146\n",
            "Trainable params: 815,146\n",
            "Non-trainable params: 0\n",
            "_________________________________________________________________\n"
          ]
        }
      ]
    },
    {
      "cell_type": "markdown",
      "source": [
        "5.Configure The Learning Process\n"
      ],
      "metadata": {
        "id": "SODOEQebwK-V"
      }
    },
    {
      "cell_type": "code",
      "source": [
        "classifier.compile(optimizer='adam', loss='sparse_categorical_crossentropy', metrics=['accuracy'])"
      ],
      "metadata": {
        "id": "CFj4hZNDr1Sb"
      },
      "execution_count": 16,
      "outputs": []
    },
    {
      "cell_type": "markdown",
      "source": [
        "6.Train The Model"
      ],
      "metadata": {
        "id": "0Q5w0RRFwVwN"
      }
    },
    {
      "cell_type": "code",
      "source": [
        "classifier.fit_generator(generator=x_train,steps_per_epoch = len(x_train),epochs=20, validation_data=x_test,validation_steps = len(x_test))\n"
      ],
      "metadata": {
        "colab": {
          "base_uri": "https://localhost:8080/"
        },
        "id": "4lE2mWnZr46-",
        "outputId": "7dffc768-549c-48b9-d5b8-6903bf2a7037"
      },
      "execution_count": 17,
      "outputs": [
        {
          "metadata": {
            "tags": null
          },
          "name": "stderr",
          "output_type": "stream",
          "text": [
            "/usr/local/lib/python3.7/dist-packages/ipykernel_launcher.py:1: UserWarning: `Model.fit_generator` is deprecated and will be removed in a future version. Please use `Model.fit`, which supports generators.\n",
            "  \"\"\"Entry point for launching an IPython kernel.\n"
          ]
        },
        {
          "output_type": "stream",
          "name": "stdout",
          "text": [
            "Epoch 1/20\n",
            "526/526 [==============================] - 681s 1s/step - loss: 0.8208 - accuracy: 0.6573 - val_loss: 0.4068 - val_accuracy: 0.7068\n",
            "Epoch 2/20\n",
            "526/526 [==============================] - 31s 59ms/step - loss: 0.7599 - accuracy: 0.6101 - val_loss: 0.5281 - val_accuracy: 0.5854\n",
            "Epoch 3/20\n",
            "526/526 [==============================] - 30s 57ms/step - loss: 0.5433 - accuracy: 0.6767 - val_loss: 0.3213 - val_accuracy: 0.8385\n",
            "Epoch 4/20\n",
            "526/526 [==============================] - 31s 58ms/step - loss: 0.4497 - accuracy: 0.7296 - val_loss: 0.5183 - val_accuracy: 0.5826\n",
            "Epoch 5/20\n",
            "526/526 [==============================] - 29s 56ms/step - loss: 1.2307 - accuracy: 0.3896 - val_loss: 1.6209 - val_accuracy: 0.2745\n",
            "Epoch 6/20\n",
            "526/526 [==============================] - 32s 60ms/step - loss: 1.6062 - accuracy: 0.2247 - val_loss: 1.5988 - val_accuracy: 0.2745\n",
            "Epoch 7/20\n",
            "526/526 [==============================] - 30s 57ms/step - loss: 1.6072 - accuracy: 0.2372 - val_loss: 1.6144 - val_accuracy: 0.2745\n",
            "Epoch 8/20\n",
            "526/526 [==============================] - 32s 61ms/step - loss: 1.6087 - accuracy: 0.2254 - val_loss: 1.6235 - val_accuracy: 0.2745\n",
            "Epoch 9/20\n",
            "526/526 [==============================] - 31s 59ms/step - loss: 1.6060 - accuracy: 0.2232 - val_loss: 1.6175 - val_accuracy: 0.2745\n",
            "Epoch 10/20\n",
            "526/526 [==============================] - 32s 61ms/step - loss: 1.6056 - accuracy: 0.2300 - val_loss: 1.6356 - val_accuracy: 0.2745\n",
            "Epoch 11/20\n",
            "526/526 [==============================] - 33s 62ms/step - loss: 1.6085 - accuracy: 0.2403 - val_loss: 1.6119 - val_accuracy: 0.2745\n",
            "Epoch 12/20\n",
            "526/526 [==============================] - 33s 62ms/step - loss: 1.6062 - accuracy: 0.2300 - val_loss: 1.6125 - val_accuracy: 0.2745\n",
            "Epoch 13/20\n",
            "526/526 [==============================] - 31s 59ms/step - loss: 1.6051 - accuracy: 0.2292 - val_loss: 1.6155 - val_accuracy: 0.2745\n",
            "Epoch 14/20\n",
            "526/526 [==============================] - 30s 57ms/step - loss: 1.6055 - accuracy: 0.2441 - val_loss: 1.6147 - val_accuracy: 0.2745\n",
            "Epoch 15/20\n",
            "526/526 [==============================] - 31s 60ms/step - loss: 1.6055 - accuracy: 0.2258 - val_loss: 1.6179 - val_accuracy: 0.2745\n",
            "Epoch 16/20\n",
            "526/526 [==============================] - 30s 57ms/step - loss: 1.6042 - accuracy: 0.2365 - val_loss: 1.6134 - val_accuracy: 0.2745\n",
            "Epoch 17/20\n",
            "526/526 [==============================] - 32s 60ms/step - loss: 1.6054 - accuracy: 0.2159 - val_loss: 1.6257 - val_accuracy: 0.2745\n",
            "Epoch 18/20\n",
            "526/526 [==============================] - 30s 57ms/step - loss: 1.6059 - accuracy: 0.2216 - val_loss: 1.6158 - val_accuracy: 0.2745\n",
            "Epoch 19/20\n",
            "526/526 [==============================] - 32s 61ms/step - loss: 1.6047 - accuracy: 0.2399 - val_loss: 1.6131 - val_accuracy: 0.2745\n",
            "Epoch 20/20\n",
            "526/526 [==============================] - 30s 57ms/step - loss: 1.6032 - accuracy: 0.2460 - val_loss: 1.6156 - val_accuracy: 0.1466\n"
          ]
        },
        {
          "output_type": "execute_result",
          "data": {
            "text/plain": [
              "<keras.callbacks.History at 0x7f0c5c5f8310>"
            ]
          },
          "metadata": {},
          "execution_count": 17
        }
      ]
    },
    {
      "cell_type": "markdown",
      "source": [
        "7.Save the model"
      ],
      "metadata": {
        "id": "kAdBYwa3wbSA"
      }
    },
    {
      "cell_type": "code",
      "source": [
        "classifier.save('nutrition.h5')"
      ],
      "metadata": {
        "id": "Y1yr1Kcvr9Tp"
      },
      "execution_count": 18,
      "outputs": []
    },
    {
      "cell_type": "markdown",
      "source": [
        "8.Testing The Model"
      ],
      "metadata": {
        "id": "CB4A4JvxwiKR"
      }
    },
    {
      "cell_type": "code",
      "source": [
        "from tensorflow.keras.models import load_model\n",
        "from keras.preprocessing import image\n",
        "model = load_model(\"nutrition.h5\")"
      ],
      "metadata": {
        "id": "NIgUYQj_sC31"
      },
      "execution_count": 19,
      "outputs": []
    },
    {
      "cell_type": "code",
      "source": [
        "from tensorflow.keras.models import load_model\n",
        "from tensorflow.keras.preprocessing import image\n",
        "model = load_model(\"nutrition.h5\")\n",
        "img = image.load_img(r'/content/drive/MyDrive/Dataset/TEST_SET/APPLES/35_100.jpg',grayscale=False,target_size= (64,64))\n",
        "x = tf.keras.preprocessing.image.img_to_array(img)\n",
        "x = np.expand_dims(x,axis = 0)\n",
        "predict_x=model.predict(x) \n",
        "classes_x=np.argmax(predict_x,axis=-1)\n",
        "classes_x"
      ],
      "metadata": {
        "id": "1lZP9ZX9sFqR",
        "colab": {
          "base_uri": "https://localhost:8080/"
        },
        "outputId": "97f281cd-7a69-4f7a-ae83-35ec5b433912"
      },
      "execution_count": 22,
      "outputs": [
        {
          "output_type": "stream",
          "name": "stdout",
          "text": [
            "1/1 [==============================] - 0s 125ms/step\n"
          ]
        },
        {
          "output_type": "execute_result",
          "data": {
            "text/plain": [
              "array([0])"
            ]
          },
          "metadata": {},
          "execution_count": 22
        }
      ]
    },
    {
      "cell_type": "code",
      "source": [
        "index=['APPLES', 'BANANA', 'ORANGE','PINEAPPLE','WATERMELON']\n",
        "result=str(index[classes_x[0]])\n",
        "result"
      ],
      "metadata": {
        "id": "dmPnOB0ptcdw",
        "colab": {
          "base_uri": "https://localhost:8080/",
          "height": 36
        },
        "outputId": "df821afe-2fc9-4a29-efe5-6b2ce8f5a266"
      },
      "execution_count": 23,
      "outputs": [
        {
          "output_type": "execute_result",
          "data": {
            "text/plain": [
              "'APPLES'"
            ],
            "application/vnd.google.colaboratory.intrinsic+json": {
              "type": "string"
            }
          },
          "metadata": {},
          "execution_count": 23
        }
      ]
    }
  ]
}